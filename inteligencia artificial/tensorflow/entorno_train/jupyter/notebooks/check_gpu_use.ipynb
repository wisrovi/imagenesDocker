{
 "cells": [
  {
   "cell_type": "code",
   "execution_count": 4,
   "id": "2a3b9c3a-544c-4954-92ec-d96d843db213",
   "metadata": {},
   "outputs": [
    {
     "name": "stdout",
     "output_type": "stream",
     "text": [
      "Thu Dec 28 07:54:08 2023       \n",
      "+---------------------------------------------------------------------------------------+\n",
      "| NVIDIA-SMI 545.29.06              Driver Version: 545.29.06    CUDA Version: 12.3     |\n",
      "|-----------------------------------------+----------------------+----------------------+\n",
      "| GPU  Name                 Persistence-M | Bus-Id        Disp.A | Volatile Uncorr. ECC |\n",
      "| Fan  Temp   Perf          Pwr:Usage/Cap |         Memory-Usage | GPU-Util  Compute M. |\n",
      "|                                         |                      |               MIG M. |\n",
      "|=========================================+======================+======================|\n",
      "|   0  NVIDIA GeForce RTX 3070        Off | 00000000:01:00.0  On |                  N/A |\n",
      "| 33%   51C    P2              77W / 220W |   3502MiB /  8192MiB |      5%      Default |\n",
      "|                                         |                      |                  N/A |\n",
      "+-----------------------------------------+----------------------+----------------------+\n",
      "                                                                                         \n",
      "+---------------------------------------------------------------------------------------+\n",
      "| Processes:                                                                            |\n",
      "|  GPU   GI   CI        PID   Type   Process name                            GPU Memory |\n",
      "|        ID   ID                                                             Usage      |\n",
      "|=======================================================================================|\n",
      "+---------------------------------------------------------------------------------------+\n"
     ]
    }
   ],
   "source": [
    "!nvidia-smi"
   ]
  },
  {
   "cell_type": "code",
   "execution_count": null,
   "id": "13dea69d-57e4-4c35-8d0d-36edad1909a2",
   "metadata": {},
   "outputs": [
    {
     "name": "stdout",
     "output_type": "stream",
     "text": [
      "\u001b[1m\u001b[37mb1c0007c9843              \u001b[m  Thu Dec 28 11:35:40 2023  \u001b[1m\u001b[30m545.29.06\u001b[m\n",
      "\u001b[36m[0]\u001b[m \u001b[34mNVIDIA GeForce RTX 3070\u001b[m |\u001b[31m 37°C\u001b[m, \u001b[32m  4 %\u001b[m | \u001b[36m\u001b[1m\u001b[33m  104\u001b[m / \u001b[33m 8192\u001b[m MB |\n",
      "\u001b[1m\u001b[37mb1c0007c9843              \u001b[m  Thu Dec 28 11:35:46 2023  \u001b[1m\u001b[30m545.29.06\u001b[m\n",
      "\u001b[36m[0]\u001b[m \u001b[34mNVIDIA GeForce RTX 3070\u001b[m |\u001b[31m 37°C\u001b[m, \u001b[32m  4 %\u001b[m | \u001b[36m\u001b[1m\u001b[33m  104\u001b[m / \u001b[33m 8192\u001b[m MB |\n",
      "\u001b[1m\u001b[37mb1c0007c9843              \u001b[m  Thu Dec 28 11:35:52 2023  \u001b[1m\u001b[30m545.29.06\u001b[m\n",
      "\u001b[36m[0]\u001b[m \u001b[34mNVIDIA GeForce RTX 3070\u001b[m |\u001b[31m 36°C\u001b[m, \u001b[32m  4 %\u001b[m | \u001b[36m\u001b[1m\u001b[33m  104\u001b[m / \u001b[33m 8192\u001b[m MB |\n",
      "\u001b[1m\u001b[37mb1c0007c9843              \u001b[m  Thu Dec 28 11:35:58 2023  \u001b[1m\u001b[30m545.29.06\u001b[m\n",
      "\u001b[36m[0]\u001b[m \u001b[34mNVIDIA GeForce RTX 3070\u001b[m |\u001b[31m 36°C\u001b[m, \u001b[32m  4 %\u001b[m | \u001b[36m\u001b[1m\u001b[33m  104\u001b[m / \u001b[33m 8192\u001b[m MB |\n",
      "\u001b[1m\u001b[37mb1c0007c9843              \u001b[m  Thu Dec 28 11:36:04 2023  \u001b[1m\u001b[30m545.29.06\u001b[m\n",
      "\u001b[36m[0]\u001b[m \u001b[34mNVIDIA GeForce RTX 3070\u001b[m |\u001b[31m 36°C\u001b[m, \u001b[32m  4 %\u001b[m | \u001b[36m\u001b[1m\u001b[33m  104\u001b[m / \u001b[33m 8192\u001b[m MB |\n",
      "\u001b[1m\u001b[37mb1c0007c9843              \u001b[m  Thu Dec 28 11:36:10 2023  \u001b[1m\u001b[30m545.29.06\u001b[m\n",
      "\u001b[36m[0]\u001b[m \u001b[34mNVIDIA GeForce RTX 3070\u001b[m |\u001b[31m 36°C\u001b[m, \u001b[32m  4 %\u001b[m | \u001b[36m\u001b[1m\u001b[33m  104\u001b[m / \u001b[33m 8192\u001b[m MB |\n",
      "\u001b[1m\u001b[37mb1c0007c9843              \u001b[m  Thu Dec 28 11:36:16 2023  \u001b[1m\u001b[30m545.29.06\u001b[m\n",
      "\u001b[36m[0]\u001b[m \u001b[34mNVIDIA GeForce RTX 3070\u001b[m |\u001b[31m 38°C\u001b[m, \u001b[32m  1 %\u001b[m | \u001b[36m\u001b[1m\u001b[33m  380\u001b[m / \u001b[33m 8192\u001b[m MB |\n",
      "\u001b[1m\u001b[37mb1c0007c9843              \u001b[m  Thu Dec 28 11:36:23 2023  \u001b[1m\u001b[30m545.29.06\u001b[m\n",
      "\u001b[36m[0]\u001b[m \u001b[34mNVIDIA GeForce RTX 3070\u001b[m |\u001b[31m 38°C\u001b[m, \u001b[32m  4 %\u001b[m | \u001b[36m\u001b[1m\u001b[33m 1210\u001b[m / \u001b[33m 8192\u001b[m MB |\n",
      "\u001b[1m\u001b[37mb1c0007c9843              \u001b[m  Thu Dec 28 11:36:29 2023  \u001b[1m\u001b[30m545.29.06\u001b[m\n",
      "\u001b[36m[0]\u001b[m \u001b[34mNVIDIA GeForce RTX 3070\u001b[m |\u001b[31m 45°C\u001b[m, \u001b[1m\u001b[32m 51 %\u001b[m | \u001b[36m\u001b[1m\u001b[33m 6426\u001b[m / \u001b[33m 8192\u001b[m MB |\n",
      "\u001b[1m\u001b[37mb1c0007c9843              \u001b[m  Thu Dec 28 11:36:35 2023  \u001b[1m\u001b[30m545.29.06\u001b[m\n",
      "\u001b[36m[0]\u001b[m \u001b[34mNVIDIA GeForce RTX 3070\u001b[m |\u001b[31m 46°C\u001b[m, \u001b[32m  0 %\u001b[m | \u001b[36m\u001b[1m\u001b[33m 7184\u001b[m / \u001b[33m 8192\u001b[m MB |\n",
      "\u001b[1m\u001b[37mb1c0007c9843              \u001b[m  Thu Dec 28 11:36:41 2023  \u001b[1m\u001b[30m545.29.06\u001b[m\n",
      "\u001b[36m[0]\u001b[m \u001b[34mNVIDIA GeForce RTX 3070\u001b[m |\u001b[31m 44°C\u001b[m, \u001b[32m 12 %\u001b[m | \u001b[36m\u001b[1m\u001b[33m 7196\u001b[m / \u001b[33m 8192\u001b[m MB |\n",
      "\u001b[1m\u001b[37mb1c0007c9843              \u001b[m  Thu Dec 28 11:36:48 2023  \u001b[1m\u001b[30m545.29.06\u001b[m\n",
      "\u001b[36m[0]\u001b[m \u001b[34mNVIDIA GeForce RTX 3070\u001b[m |\u001b[31m 43°C\u001b[m, \u001b[32m  1 %\u001b[m | \u001b[36m\u001b[1m\u001b[33m 7196\u001b[m / \u001b[33m 8192\u001b[m MB |\n",
      "\u001b[1m\u001b[37mb1c0007c9843              \u001b[m  Thu Dec 28 11:36:54 2023  \u001b[1m\u001b[30m545.29.06\u001b[m\n",
      "\u001b[36m[0]\u001b[m \u001b[34mNVIDIA GeForce RTX 3070\u001b[m |\u001b[31m 46°C\u001b[m, \u001b[32m  0 %\u001b[m | \u001b[36m\u001b[1m\u001b[33m 7196\u001b[m / \u001b[33m 8192\u001b[m MB |\n",
      "\u001b[1m\u001b[37mb1c0007c9843              \u001b[m  Thu Dec 28 11:37:00 2023  \u001b[1m\u001b[30m545.29.06\u001b[m\n",
      "\u001b[36m[0]\u001b[m \u001b[34mNVIDIA GeForce RTX 3070\u001b[m |\u001b[31m 47°C\u001b[m, \u001b[32m  1 %\u001b[m | \u001b[36m\u001b[1m\u001b[33m 7196\u001b[m / \u001b[33m 8192\u001b[m MB |\n",
      "\u001b[1m\u001b[37mb1c0007c9843              \u001b[m  Thu Dec 28 11:37:06 2023  \u001b[1m\u001b[30m545.29.06\u001b[m\n",
      "\u001b[36m[0]\u001b[m \u001b[34mNVIDIA GeForce RTX 3070\u001b[m |\u001b[31m 47°C\u001b[m, \u001b[32m  1 %\u001b[m | \u001b[36m\u001b[1m\u001b[33m 7198\u001b[m / \u001b[33m 8192\u001b[m MB |\n",
      "\u001b[1m\u001b[37mb1c0007c9843              \u001b[m  Thu Dec 28 11:37:13 2023  \u001b[1m\u001b[30m545.29.06\u001b[m\n",
      "\u001b[36m[0]\u001b[m \u001b[34mNVIDIA GeForce RTX 3070\u001b[m |\u001b[31m 47°C\u001b[m, \u001b[32m  1 %\u001b[m | \u001b[36m\u001b[1m\u001b[33m 7198\u001b[m / \u001b[33m 8192\u001b[m MB |\n",
      "\u001b[1m\u001b[37mb1c0007c9843              \u001b[m  Thu Dec 28 11:37:19 2023  \u001b[1m\u001b[30m545.29.06\u001b[m\n",
      "\u001b[36m[0]\u001b[m \u001b[34mNVIDIA GeForce RTX 3070\u001b[m |\u001b[1m\u001b[31m 52°C\u001b[m, \u001b[1m\u001b[32m 87 %\u001b[m | \u001b[36m\u001b[1m\u001b[33m 7198\u001b[m / \u001b[33m 8192\u001b[m MB |\n",
      "\u001b[1m\u001b[37mb1c0007c9843              \u001b[m  Thu Dec 28 11:37:26 2023  \u001b[1m\u001b[30m545.29.06\u001b[m\n",
      "\u001b[36m[0]\u001b[m \u001b[34mNVIDIA GeForce RTX 3070\u001b[m |\u001b[1m\u001b[31m 50°C\u001b[m, \u001b[32m  0 %\u001b[m | \u001b[36m\u001b[1m\u001b[33m 7198\u001b[m / \u001b[33m 8192\u001b[m MB |\n",
      "\u001b[1m\u001b[37mb1c0007c9843              \u001b[m  Thu Dec 28 11:37:32 2023  \u001b[1m\u001b[30m545.29.06\u001b[m\n",
      "\u001b[36m[0]\u001b[m \u001b[34mNVIDIA GeForce RTX 3070\u001b[m |\u001b[1m\u001b[31m 51°C\u001b[m, \u001b[32m  1 %\u001b[m | \u001b[36m\u001b[1m\u001b[33m 7204\u001b[m / \u001b[33m 8192\u001b[m MB |\n",
      "\u001b[1m\u001b[37mb1c0007c9843              \u001b[m  Thu Dec 28 11:37:39 2023  \u001b[1m\u001b[30m545.29.06\u001b[m\n",
      "\u001b[36m[0]\u001b[m \u001b[34mNVIDIA GeForce RTX 3070\u001b[m |\u001b[31m 49°C\u001b[m, \u001b[32m  1 %\u001b[m | \u001b[36m\u001b[1m\u001b[33m 7206\u001b[m / \u001b[33m 8192\u001b[m MB |\n"
     ]
    }
   ],
   "source": [
    "import time\n",
    "for i in range(150):\n",
    "    time.sleep(5)\n",
    "    !gpustat"
   ]
  },
  {
   "cell_type": "code",
   "execution_count": null,
   "id": "d669d60b-ddd2-4e2f-8429-071d8035f60c",
   "metadata": {},
   "outputs": [],
   "source": []
  }
 ],
 "metadata": {
  "kernelspec": {
   "display_name": "Python 3 (ipykernel)",
   "language": "python",
   "name": "python3"
  },
  "language_info": {
   "codemirror_mode": {
    "name": "ipython",
    "version": 3
   },
   "file_extension": ".py",
   "mimetype": "text/x-python",
   "name": "python",
   "nbconvert_exporter": "python",
   "pygments_lexer": "ipython3",
   "version": "3.10.12"
  }
 },
 "nbformat": 4,
 "nbformat_minor": 5
}
