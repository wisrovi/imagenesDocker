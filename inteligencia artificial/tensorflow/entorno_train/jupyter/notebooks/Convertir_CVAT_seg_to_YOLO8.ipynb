{
 "cells": [
  {
   "cell_type": "code",
   "execution_count": 1,
   "id": "b80f468d-7fb7-4817-8d40-cd3d36b68185",
   "metadata": {},
   "outputs": [
    {
     "name": "stdout",
     "output_type": "stream",
     "text": [
      " json_to_yolo.py\n",
      " materials_seg_ARRAM.zip\n",
      " orient.zip\n",
      " orient_train.zip\n",
      " parts_seg_eyesDcar.zip\n",
      "'project_arram materiales-2023_12_13_15_56_00-cvat for images 1.1.zip'\n"
     ]
    }
   ],
   "source": [
    "!ls /datasets"
   ]
  },
  {
   "cell_type": "code",
   "execution_count": 2,
   "id": "75cc1fb5-20b8-40e8-83f1-e8b935f7898d",
   "metadata": {},
   "outputs": [],
   "source": [
    "NOMBRE_DATASET_USAR = \"project_arram materiales-2023_12_13_15_56_00-cvat for images 1.1\"\n",
    "NOMBRE_DATASET_YOLO = \"materials_seg_ARRAM\""
   ]
  },
  {
   "cell_type": "markdown",
   "id": "417c6f7f-55a9-4e26-a362-b2c2b51fd704",
   "metadata": {},
   "source": [
    "# funciones auxiliares"
   ]
  },
  {
   "cell_type": "code",
   "execution_count": 3,
   "id": "b5b94471-43a5-4cc2-81eb-1d4d874304c0",
   "metadata": {},
   "outputs": [],
   "source": [
    "import zipfile, os\n",
    "\n",
    "def descomprimir_zip(archivo_zip, directorio_destino):\n",
    "    try:\n",
    "        with zipfile.ZipFile(archivo_zip, 'r') as zip_ref:\n",
    "            zip_ref.extractall(directorio_destino)\n",
    "        print(\"¡Archivo ZIP descomprimido correctamente!\")\n",
    "    except zipfile.BadZipFile:\n",
    "        print(\"Error: El archivo proporcionado no es un archivo ZIP válido.\")\n",
    "    except Exception as e:\n",
    "        print(f\"Error al descomprimir el archivo ZIP: {e}\")"
   ]
  },
  {
   "cell_type": "code",
   "execution_count": 4,
   "id": "ff5377f4-8ce0-4003-a361-486df5383dbf",
   "metadata": {},
   "outputs": [
    {
     "name": "stdout",
     "output_type": "stream",
     "text": [
      "dataset.zip\n"
     ]
    }
   ],
   "source": [
    "!mkdir /content/CVAT\n",
    "!mkdir \"/content/CVAT/{NOMBRE_DATASET_USAR}\"\n",
    "%cp \"/datasets/{NOMBRE_DATASET_USAR}.zip\" \"/content/CVAT/{NOMBRE_DATASET_USAR}/dataset.zip\"\n",
    "!ls \"/content/CVAT/{NOMBRE_DATASET_USAR}\""
   ]
  },
  {
   "cell_type": "code",
   "execution_count": 5,
   "id": "ccaba53e-96a9-4215-801b-674639d0acbc",
   "metadata": {},
   "outputs": [
    {
     "name": "stdout",
     "output_type": "stream",
     "text": [
      "¡Archivo ZIP descomprimido correctamente!\n",
      "CVAT\n"
     ]
    }
   ],
   "source": [
    "# Uso del ejemplo:\n",
    "archivo_zip = f'/content/CVAT/{NOMBRE_DATASET_USAR}/dataset.zip'  # Ruta y nombre del archivo ZIP que quieres descomprimir\n",
    "directorio_destino = f'/content/CVAT/{NOMBRE_DATASET_USAR}/'  # Ruta del directorio donde se extraerán los archivos\n",
    "\n",
    "descomprimir_zip(archivo_zip, directorio_destino)\n",
    "\n",
    "!ls /content"
   ]
  },
  {
   "cell_type": "code",
   "execution_count": 6,
   "id": "f96645ff-d874-49bf-b964-2d02443f89c6",
   "metadata": {},
   "outputs": [],
   "source": [
    "import glob\n",
    "imagenes_cvat = glob.glob(os.path.join(directorio_destino, \"images\", \"Train\", '*.jpg'))\n",
    "# \"Total imagenes: \" + str(len([ lab.split(\".jpg\")[0] for lab in imagenes_cvat ]))"
   ]
  },
  {
   "cell_type": "code",
   "execution_count": 7,
   "id": "5a6f8d1b-97dc-4f34-9e62-e66e3944042e",
   "metadata": {
    "scrolled": true
   },
   "outputs": [],
   "source": [
    "imagenes_cvat_buscar = [img.split(os.sep)[-1] for img in imagenes_cvat]"
   ]
  },
  {
   "cell_type": "code",
   "execution_count": 8,
   "id": "33a8a471-7b04-4cea-85b1-23e5e43b1c7c",
   "metadata": {
    "scrolled": true
   },
   "outputs": [],
   "source": [
    "import xml.etree.ElementTree as ET\n",
    "import json\n",
    "\n",
    "# Parsear el archivo XML\n",
    "archivo_xml = f'/content/CVAT/{NOMBRE_DATASET_USAR}/annotations.xml'\n",
    "\n",
    "# Cargar y analizar el archivo XML\n",
    "tree = ET.parse(archivo_xml)\n",
    "root = tree.getroot()\n",
    "\n",
    "# Crear el diccionario del dataset\n",
    "dataset = {}\n",
    "\n",
    "# Iterar sobre cada elemento 'image'\n",
    "for image in root.findall('.//image'):\n",
    "    nombre_imagen = image.get('name')\n",
    "    if not nombre_imagen in imagenes_cvat_buscar:\n",
    "        #print(\"NO: \",nombre_imagen)\n",
    "        continue\n",
    "    \n",
    "    ancho_img = int(image.get('width'))\n",
    "    alto_img = int(image.get('height'))\n",
    "    \n",
    "    # Crear un diccionario para cada imagen\n",
    "    etiquetas = {'ancho': ancho_img, 'alto': alto_img}\n",
    "\n",
    "    # Iterar sobre cada polígono dentro de la imagen\n",
    "    for polygon in image.findall('.//polygon'):\n",
    "        etiqueta = polygon.get('label')\n",
    "        coordenadas_str = polygon.get('points')\n",
    "        # Convertir el string de coordenadas en una lista de listas [x, y]\n",
    "        coordenadas = [[float(coord) for coord in punto.split(',')] for punto in coordenadas_str.split(';')]\n",
    "\n",
    "        # Agregar las coordenadas a la lista de la etiqueta correspondiente\n",
    "        if etiqueta in etiquetas:\n",
    "            etiquetas[etiqueta].append(coordenadas)\n",
    "        else:\n",
    "            etiquetas[etiqueta] = [coordenadas]\n",
    "\n",
    "    # Agregar el diccionario de etiquetas a la imagen correspondiente\n",
    "    dataset[nombre_imagen] = etiquetas\n",
    "\n",
    "\n",
    "#list(dataset.keys())[0], list(dataset.values())[0]\n",
    "# # Convertir el diccionario a JSON\n",
    "# json_dataset = json.dumps(dataset, indent=4)\n",
    "\n",
    "# # Imprimir el JSON resultante\n",
    "# print(json_dataset)"
   ]
  },
  {
   "cell_type": "code",
   "execution_count": 9,
   "id": "e949e0e0-4d68-4c51-970f-ceed80122515",
   "metadata": {
    "scrolled": true
   },
   "outputs": [],
   "source": [
    "dataset_filtrado = {imagen: etiquetas for imagen, etiquetas in dataset.items() if len(etiquetas) >= 3}\n",
    "\n",
    "ejemplo_0 = list(dataset_filtrado.keys())[0]\n",
    "#ejemplo_0, dataset_filtrado[ejemplo_0]"
   ]
  },
  {
   "cell_type": "code",
   "execution_count": 10,
   "id": "d5576b41-d643-4bb5-80f9-90e61108b5fd",
   "metadata": {},
   "outputs": [
    {
     "name": "stdout",
     "output_type": "stream",
     "text": [
      "{'Acero corrugado': 0, 'Correa tubular VPT': 1, 'Losa cimentación hormigón': 2, 'Muro hormigón armado 1': 3, 'Muro hormigón prefabricado': 4, 'Pilar rectangular hormigón 50x60': 5, 'Placa alveolar forjado 2': 6, 'Tubería PVC corrugada saneamiento': 7, 'Tubería corrugada polipropileno': 8, 'Viga delta': 9, 'Zapata de hormigón': 10}\n"
     ]
    }
   ],
   "source": [
    "# Conjunto para almacenar etiquetas únicas\n",
    "etiquetas_unicas = set()\n",
    "\n",
    "# Recorrer cada imagen y extraer las etiquetas\n",
    "for nombre_imagen, etiquetas in dataset.items():\n",
    "    for etiqueta in etiquetas:\n",
    "        etiquetas_unicas.add(etiqueta)\n",
    "\n",
    "# Convertir el conjunto en una lista\n",
    "lista_etiquetas = sorted(list(etiquetas_unicas))\n",
    "\n",
    "# Imprimir la lista de etiquetas únicas\n",
    "#print(lista_etiquetas, len(lista_etiquetas))\n",
    "\n",
    "\n",
    "# Asignar un ID de clase a cada etiqueta\n",
    "etiquetas_a_id = {}\n",
    "for i, etiqueta in enumerate(lista_etiquetas):\n",
    "    if etiqueta != \"alto\" and etiqueta != \"ancho\":\n",
    "        etiquetas_a_id[etiqueta] = i\n",
    "\n",
    "print(etiquetas_a_id)\n",
    "\n"
   ]
  },
  {
   "cell_type": "code",
   "execution_count": 11,
   "id": "63701eee-b183-4af1-9928-c137a5937542",
   "metadata": {},
   "outputs": [
    {
     "name": "stdout",
     "output_type": "stream",
     "text": [
      "annotations.xml  dataset.zip  images\n"
     ]
    }
   ],
   "source": [
    "!ls \"/content/CVAT/{NOMBRE_DATASET_USAR}\""
   ]
  },
  {
   "cell_type": "code",
   "execution_count": 12,
   "id": "70b8797e-d750-4380-a7d6-d29d473fea69",
   "metadata": {
    "scrolled": true
   },
   "outputs": [],
   "source": [
    "# list(dataset.items())[0]"
   ]
  },
  {
   "cell_type": "code",
   "execution_count": 13,
   "id": "374e1052-d26a-4d36-a6d2-1b118e0204c8",
   "metadata": {},
   "outputs": [],
   "source": [
    "import os\n",
    "import shutil\n",
    "import json\n",
    "\n",
    "\n",
    "# Directorio de las imágenes originales\n",
    "directorio_imagenes = f'/content/CVAT/{NOMBRE_DATASET_USAR}/images/Train'"
   ]
  },
  {
   "cell_type": "code",
   "execution_count": 14,
   "id": "cb0570cd-26ed-4371-bbe0-fa321dc77b19",
   "metadata": {
    "scrolled": true
   },
   "outputs": [],
   "source": [
    "\n",
    "\n",
    "# Crear estructura de carpetas YOLO\n",
    "base_dir = f'/content/CVAT/{NOMBRE_DATASET_USAR}/YOLO'\n",
    "os.makedirs(os.path.join(base_dir, 'images'), exist_ok=True)\n",
    "os.makedirs(os.path.join(base_dir, 'labels'), exist_ok=True)\n",
    "\n",
    "# Procesar el JSON\n",
    "for nombre_imagen, info in dataset.items():\n",
    "    ancho_img = info['ancho']\n",
    "    alto_img = info['alto']\n",
    "\n",
    "    # Preparar el archivo de etiquetas YOLO\n",
    "    contenido_etiqueta = []\n",
    "    for etiqueta, poligonos in info.items():\n",
    "        if etiqueta in ['ancho', 'alto']:\n",
    "            continue  # Saltar las claves de ancho y alto\n",
    "        class_id = etiquetas_a_id.get(etiqueta, -1)\n",
    "        if class_id == -1:\n",
    "            continue  # Saltar etiquetas no mapeadas\n",
    "\n",
    "        for poligono in poligonos:\n",
    "            # Normalizar y aplanar las coordenadas\n",
    "            coords = [coord for punto in poligono for coord in punto]\n",
    "            coords_normalizadas = [str(c / ancho_img if i % 2 == 0 else c / alto_img) for i, c in enumerate(coords)]\n",
    "            linea = f\"{class_id} \" + \" \".join(coords_normalizadas)\n",
    "            contenido_etiqueta.append(linea)\n",
    "\n",
    "    # Escribir el archivo .txt de etiquetas YOLO\n",
    "    with open(os.path.join(base_dir, 'labels', nombre_imagen.replace('.jpg', '.txt')), 'w') as f:\n",
    "        f.write('\\n'.join(contenido_etiqueta))\n",
    "\n",
    "    # Mover la imagen\n",
    "    ruta_origen = os.path.join(directorio_imagenes, nombre_imagen)\n",
    "    ruta_destino = os.path.join(base_dir, 'images', nombre_imagen)\n",
    "\n",
    "    try:\n",
    "        shutil.copy(ruta_origen, ruta_destino)\n",
    "    except Exception as e:\n",
    "        print(e)"
   ]
  },
  {
   "cell_type": "code",
   "execution_count": 15,
   "id": "2e1b5d5b-0a28-4497-b037-ef6a54dd117d",
   "metadata": {},
   "outputs": [
    {
     "name": "stdout",
     "output_type": "stream",
     "text": [
      "Total imagenes para repartir para YOLO:  288\n"
     ]
    }
   ],
   "source": [
    "print(\"Total imagenes para repartir para YOLO: \", len([ lab.split(\".jpg\")[0] for lab in glob.glob(os.path.join(directorio_imagenes, '*.jpg')) ]))\n",
    "#print(\"Total etiquetas para repartir para YOLO: \", len([ lab.split(\".txt\")[0] for lab in glob.glob(os.path.join(labels_dir, '*.txt')) ]))"
   ]
  },
  {
   "cell_type": "code",
   "execution_count": 16,
   "id": "8804d1f6-7e4d-44b6-9282-6cfbe0120701",
   "metadata": {},
   "outputs": [
    {
     "data": {
      "text/plain": [
       "['Acero corrugado',\n",
       " 'Correa tubular VPT',\n",
       " 'Losa cimentación hormigón',\n",
       " 'Muro hormigón armado 1',\n",
       " 'Muro hormigón prefabricado',\n",
       " 'Pilar rectangular hormigón 50x60',\n",
       " 'Placa alveolar forjado 2',\n",
       " 'Tubería PVC corrugada saneamiento',\n",
       " 'Tubería corrugada polipropileno',\n",
       " 'Viga delta',\n",
       " 'Zapata de hormigón']"
      ]
     },
     "execution_count": 16,
     "metadata": {},
     "output_type": "execute_result"
    }
   ],
   "source": [
    "#nombres_clases = [etiqueta for etiqueta, id in sorted(etiquetas_a_id.items(), key=lambda item: item[1])]\n",
    "nombres_clases = [etiqueta for etiqueta, id in etiquetas_a_id.items()]\n",
    "nombres_clases"
   ]
  },
  {
   "cell_type": "code",
   "execution_count": 17,
   "id": "7c42a15d-7cbf-483a-8f7c-b64760d812b3",
   "metadata": {
    "scrolled": true
   },
   "outputs": [],
   "source": [
    "import os\n",
    "import shutil\n",
    "import glob\n",
    "from sklearn.model_selection import train_test_split\n",
    "\n",
    "# Rutas a las carpetas de imágenes y etiquetas\n",
    "images_dir = f'/content/CVAT/{NOMBRE_DATASET_USAR}/YOLO/images'\n",
    "labels_dir = f'/content/CVAT/{NOMBRE_DATASET_USAR}/YOLO/labels'\n",
    "\n",
    "# Crear la estructura de carpetas para el conjunto de datos\n",
    "base_dir = f'/content/CVAT/{NOMBRE_DATASET_USAR}/YOLO/dataset'\n",
    "subsets = ['train', 'test', 'valid']\n",
    "for subset in subsets:\n",
    "    os.makedirs(os.path.join(base_dir, subset, 'images'), exist_ok=True)\n",
    "    os.makedirs(os.path.join(base_dir, subset, 'labels'), exist_ok=True)\n",
    "\n",
    "#!ls \"{images_dir}\""
   ]
  },
  {
   "cell_type": "code",
   "execution_count": 18,
   "id": "53d6d42c-904a-4408-b4af-ab6ad627a2b6",
   "metadata": {},
   "outputs": [
    {
     "data": {
      "text/plain": [
       "'/content/CVAT/project_arram materiales-2023_12_13_15_56_00-cvat for images 1.1/YOLO/images'"
      ]
     },
     "execution_count": 18,
     "metadata": {},
     "output_type": "execute_result"
    }
   ],
   "source": [
    "images_dir"
   ]
  },
  {
   "cell_type": "code",
   "execution_count": 19,
   "id": "a1a505df-58f8-49c8-bf60-a8c8aad0346e",
   "metadata": {
    "scrolled": true
   },
   "outputs": [
    {
     "data": {
      "text/plain": [
       "['/content/CVAT/project_arram materiales-2023_12_13_15_56_00-cvat for images 1.1/YOLO/images/DJI_0932_000142.jpg',\n",
       " '/content/CVAT/project_arram materiales-2023_12_13_15_56_00-cvat for images 1.1/YOLO/images/DJI_0932_000046.jpg',\n",
       " '/content/CVAT/project_arram materiales-2023_12_13_15_56_00-cvat for images 1.1/YOLO/images/Arram2023-12-12-13h15m35s634.jpg',\n",
       " '/content/CVAT/project_arram materiales-2023_12_13_15_56_00-cvat for images 1.1/YOLO/images/DJI_0933_000029.jpg',\n",
       " '/content/CVAT/project_arram materiales-2023_12_13_15_56_00-cvat for images 1.1/YOLO/images/DJI_0933_000098.jpg',\n",
       " '/content/CVAT/project_arram materiales-2023_12_13_15_56_00-cvat for images 1.1/YOLO/images/Arram2023-12-12-14h03m50s966.jpg',\n",
       " '/content/CVAT/project_arram materiales-2023_12_13_15_56_00-cvat for images 1.1/YOLO/images/DJI_0932_000145.jpg',\n",
       " '/content/CVAT/project_arram materiales-2023_12_13_15_56_00-cvat for images 1.1/YOLO/images/Arram2023-12-12-14h05m33s954.jpg',\n",
       " '/content/CVAT/project_arram materiales-2023_12_13_15_56_00-cvat for images 1.1/YOLO/images/DJI_0932_000153.jpg',\n",
       " '/content/CVAT/project_arram materiales-2023_12_13_15_56_00-cvat for images 1.1/YOLO/images/DJI_0933_000027.jpg',\n",
       " '/content/CVAT/project_arram materiales-2023_12_13_15_56_00-cvat for images 1.1/YOLO/images/Arram2023-12-12-09h48m54s526.jpg',\n",
       " '/content/CVAT/project_arram materiales-2023_12_13_15_56_00-cvat for images 1.1/YOLO/images/Arram2023-12-12-13h13m03s065.jpg',\n",
       " '/content/CVAT/project_arram materiales-2023_12_13_15_56_00-cvat for images 1.1/YOLO/images/DJI_0932_000044.jpg',\n",
       " '/content/CVAT/project_arram materiales-2023_12_13_15_56_00-cvat for images 1.1/YOLO/images/Arram2023-12-12-09h57m31s784.jpg',\n",
       " '/content/CVAT/project_arram materiales-2023_12_13_15_56_00-cvat for images 1.1/YOLO/images/Arram2023-12-12-13h13m46s420.jpg',\n",
       " '/content/CVAT/project_arram materiales-2023_12_13_15_56_00-cvat for images 1.1/YOLO/images/Arram2023-12-12-09h51m28s885.jpg',\n",
       " '/content/CVAT/project_arram materiales-2023_12_13_15_56_00-cvat for images 1.1/YOLO/images/Arram2023-12-12-13h10m56s813.jpg',\n",
       " '/content/CVAT/project_arram materiales-2023_12_13_15_56_00-cvat for images 1.1/YOLO/images/Arram2023-12-12-13h11m19s594.jpg',\n",
       " '/content/CVAT/project_arram materiales-2023_12_13_15_56_00-cvat for images 1.1/YOLO/images/Arram2023-12-12-13h03m23s490.jpg',\n",
       " '/content/CVAT/project_arram materiales-2023_12_13_15_56_00-cvat for images 1.1/YOLO/images/Arram2023-12-12-13h10m23s354.jpg',\n",
       " '/content/CVAT/project_arram materiales-2023_12_13_15_56_00-cvat for images 1.1/YOLO/images/DJI_0938_000157.jpg',\n",
       " '/content/CVAT/project_arram materiales-2023_12_13_15_56_00-cvat for images 1.1/YOLO/images/DJI_0933_000141.jpg',\n",
       " '/content/CVAT/project_arram materiales-2023_12_13_15_56_00-cvat for images 1.1/YOLO/images/Arram2023-12-12-13h12m28s699.jpg',\n",
       " '/content/CVAT/project_arram materiales-2023_12_13_15_56_00-cvat for images 1.1/YOLO/images/Arram2023-12-12-13h11m35s990.jpg',\n",
       " '/content/CVAT/project_arram materiales-2023_12_13_15_56_00-cvat for images 1.1/YOLO/images/Arram2023-12-12-13h11m59s671.jpg',\n",
       " '/content/CVAT/project_arram materiales-2023_12_13_15_56_00-cvat for images 1.1/YOLO/images/Arram2023-12-12-14h03m41s803.jpg',\n",
       " '/content/CVAT/project_arram materiales-2023_12_13_15_56_00-cvat for images 1.1/YOLO/images/Arram2023-12-12-13h03m40s795.jpg',\n",
       " '/content/CVAT/project_arram materiales-2023_12_13_15_56_00-cvat for images 1.1/YOLO/images/DJI_0938_000159.jpg',\n",
       " '/content/CVAT/project_arram materiales-2023_12_13_15_56_00-cvat for images 1.1/YOLO/images/Arram2023-12-12-13h08m13s197.jpg',\n",
       " '/content/CVAT/project_arram materiales-2023_12_13_15_56_00-cvat for images 1.1/YOLO/images/Arram2023-12-12-09h53m39s278.jpg',\n",
       " '/content/CVAT/project_arram materiales-2023_12_13_15_56_00-cvat for images 1.1/YOLO/images/Arram2023-12-12-13h06m51s673.jpg',\n",
       " '/content/CVAT/project_arram materiales-2023_12_13_15_56_00-cvat for images 1.1/YOLO/images/Arram2023-12-12-13h11m36s927.jpg',\n",
       " '/content/CVAT/project_arram materiales-2023_12_13_15_56_00-cvat for images 1.1/YOLO/images/Arram2023-12-12-13h15m34s599.jpg',\n",
       " '/content/CVAT/project_arram materiales-2023_12_13_15_56_00-cvat for images 1.1/YOLO/images/DJI_0939_000019.jpg',\n",
       " '/content/CVAT/project_arram materiales-2023_12_13_15_56_00-cvat for images 1.1/YOLO/images/DJI_0937_000155.jpg',\n",
       " '/content/CVAT/project_arram materiales-2023_12_13_15_56_00-cvat for images 1.1/YOLO/images/Arram2023-12-12-13h09m26s521.jpg',\n",
       " '/content/CVAT/project_arram materiales-2023_12_13_15_56_00-cvat for images 1.1/YOLO/images/Arram2023-12-12-09h50m27s580.jpg',\n",
       " '/content/CVAT/project_arram materiales-2023_12_13_15_56_00-cvat for images 1.1/YOLO/images/DJI_0932_000039.jpg',\n",
       " '/content/CVAT/project_arram materiales-2023_12_13_15_56_00-cvat for images 1.1/YOLO/images/DJI_0932_000083.jpg',\n",
       " '/content/CVAT/project_arram materiales-2023_12_13_15_56_00-cvat for images 1.1/YOLO/images/Arram2023-12-12-13h16m47s366.jpg',\n",
       " '/content/CVAT/project_arram materiales-2023_12_13_15_56_00-cvat for images 1.1/YOLO/images/DJI_0933_000018.jpg',\n",
       " '/content/CVAT/project_arram materiales-2023_12_13_15_56_00-cvat for images 1.1/YOLO/images/Arram2023-12-12-13h15m33s518.jpg',\n",
       " '/content/CVAT/project_arram materiales-2023_12_13_15_56_00-cvat for images 1.1/YOLO/images/DJI_0937_000154.jpg',\n",
       " '/content/CVAT/project_arram materiales-2023_12_13_15_56_00-cvat for images 1.1/YOLO/images/DJI_0933_000090.jpg',\n",
       " '/content/CVAT/project_arram materiales-2023_12_13_15_56_00-cvat for images 1.1/YOLO/images/DJI_0933_000031.jpg',\n",
       " '/content/CVAT/project_arram materiales-2023_12_13_15_56_00-cvat for images 1.1/YOLO/images/DJI_0933_000089.jpg',\n",
       " '/content/CVAT/project_arram materiales-2023_12_13_15_56_00-cvat for images 1.1/YOLO/images/DJI_0932_000072.jpg',\n",
       " '/content/CVAT/project_arram materiales-2023_12_13_15_56_00-cvat for images 1.1/YOLO/images/Arram2023-12-12-13h10m22s772.jpg',\n",
       " '/content/CVAT/project_arram materiales-2023_12_13_15_56_00-cvat for images 1.1/YOLO/images/DJI_0933_000028.jpg',\n",
       " '/content/CVAT/project_arram materiales-2023_12_13_15_56_00-cvat for images 1.1/YOLO/images/DJI_0937_000151.jpg',\n",
       " '/content/CVAT/project_arram materiales-2023_12_13_15_56_00-cvat for images 1.1/YOLO/images/DJI_0932_000141.jpg',\n",
       " '/content/CVAT/project_arram materiales-2023_12_13_15_56_00-cvat for images 1.1/YOLO/images/DJI_0938_000052.jpg',\n",
       " '/content/CVAT/project_arram materiales-2023_12_13_15_56_00-cvat for images 1.1/YOLO/images/DJI_0932_000038.jpg',\n",
       " '/content/CVAT/project_arram materiales-2023_12_13_15_56_00-cvat for images 1.1/YOLO/images/DJI_0932_000140.jpg',\n",
       " '/content/CVAT/project_arram materiales-2023_12_13_15_56_00-cvat for images 1.1/YOLO/images/DJI_0937_000149.jpg',\n",
       " '/content/CVAT/project_arram materiales-2023_12_13_15_56_00-cvat for images 1.1/YOLO/images/Arram2023-12-12-13h09m27s860.jpg',\n",
       " '/content/CVAT/project_arram materiales-2023_12_13_15_56_00-cvat for images 1.1/YOLO/images/Arram2023-12-12-13h16m35s540.jpg',\n",
       " '/content/CVAT/project_arram materiales-2023_12_13_15_56_00-cvat for images 1.1/YOLO/images/DJI_0932_000080.jpg',\n",
       " '/content/CVAT/project_arram materiales-2023_12_13_15_56_00-cvat for images 1.1/YOLO/images/DJI_0932_000082.jpg',\n",
       " '/content/CVAT/project_arram materiales-2023_12_13_15_56_00-cvat for images 1.1/YOLO/images/Arram2023-12-12-13h03m37s997.jpg',\n",
       " '/content/CVAT/project_arram materiales-2023_12_13_15_56_00-cvat for images 1.1/YOLO/images/DJI_0937_000152.jpg',\n",
       " '/content/CVAT/project_arram materiales-2023_12_13_15_56_00-cvat for images 1.1/YOLO/images/DJI_0938_000089.jpg',\n",
       " '/content/CVAT/project_arram materiales-2023_12_13_15_56_00-cvat for images 1.1/YOLO/images/Arram2023-12-12-13h11m57s826.jpg',\n",
       " '/content/CVAT/project_arram materiales-2023_12_13_15_56_00-cvat for images 1.1/YOLO/images/DJI_0937_000148.jpg',\n",
       " '/content/CVAT/project_arram materiales-2023_12_13_15_56_00-cvat for images 1.1/YOLO/images/Arram2023-12-12-09h50m25s669.jpg',\n",
       " '/content/CVAT/project_arram materiales-2023_12_13_15_56_00-cvat for images 1.1/YOLO/images/Arram2023-12-12-13h15m32s788.jpg',\n",
       " '/content/CVAT/project_arram materiales-2023_12_13_15_56_00-cvat for images 1.1/YOLO/images/DJI_0932_000070.jpg',\n",
       " '/content/CVAT/project_arram materiales-2023_12_13_15_56_00-cvat for images 1.1/YOLO/images/Arram2023-12-12-13h11m35s026.jpg',\n",
       " '/content/CVAT/project_arram materiales-2023_12_13_15_56_00-cvat for images 1.1/YOLO/images/DJI_0938_000156.jpg',\n",
       " '/content/CVAT/project_arram materiales-2023_12_13_15_56_00-cvat for images 1.1/YOLO/images/DJI_0937_000153.jpg',\n",
       " '/content/CVAT/project_arram materiales-2023_12_13_15_56_00-cvat for images 1.1/YOLO/images/DJI_0938_000155.jpg',\n",
       " '/content/CVAT/project_arram materiales-2023_12_13_15_56_00-cvat for images 1.1/YOLO/images/DJI_0932_000077.jpg',\n",
       " '/content/CVAT/project_arram materiales-2023_12_13_15_56_00-cvat for images 1.1/YOLO/images/DJI_0937_000150.jpg',\n",
       " '/content/CVAT/project_arram materiales-2023_12_13_15_56_00-cvat for images 1.1/YOLO/images/Arram2023-12-12-13h10m39s095.jpg',\n",
       " '/content/CVAT/project_arram materiales-2023_12_13_15_56_00-cvat for images 1.1/YOLO/images/DJI_0932_000152.jpg',\n",
       " '/content/CVAT/project_arram materiales-2023_12_13_15_56_00-cvat for images 1.1/YOLO/images/Arram2023-12-12-09h49m07s914.jpg',\n",
       " '/content/CVAT/project_arram materiales-2023_12_13_15_56_00-cvat for images 1.1/YOLO/images/DJI_0938_000092.jpg',\n",
       " '/content/CVAT/project_arram materiales-2023_12_13_15_56_00-cvat for images 1.1/YOLO/images/DJI_0939_000021.jpg',\n",
       " '/content/CVAT/project_arram materiales-2023_12_13_15_56_00-cvat for images 1.1/YOLO/images/DJI_0933_000025.jpg',\n",
       " '/content/CVAT/project_arram materiales-2023_12_13_15_56_00-cvat for images 1.1/YOLO/images/Arram2023-12-12-14h08m30s030.jpg',\n",
       " '/content/CVAT/project_arram materiales-2023_12_13_15_56_00-cvat for images 1.1/YOLO/images/DJI_0938_000029.jpg',\n",
       " '/content/CVAT/project_arram materiales-2023_12_13_15_56_00-cvat for images 1.1/YOLO/images/DJI_0932_000075.jpg',\n",
       " '/content/CVAT/project_arram materiales-2023_12_13_15_56_00-cvat for images 1.1/YOLO/images/DJI_0938_000161.jpg',\n",
       " '/content/CVAT/project_arram materiales-2023_12_13_15_56_00-cvat for images 1.1/YOLO/images/DJI_0932_000084.jpg',\n",
       " '/content/CVAT/project_arram materiales-2023_12_13_15_56_00-cvat for images 1.1/YOLO/images/DJI_0932_000074.jpg',\n",
       " '/content/CVAT/project_arram materiales-2023_12_13_15_56_00-cvat for images 1.1/YOLO/images/Arram2023-12-12-13h13m10s736.jpg',\n",
       " '/content/CVAT/project_arram materiales-2023_12_13_15_56_00-cvat for images 1.1/YOLO/images/DJI_0938_000121.jpg',\n",
       " '/content/CVAT/project_arram materiales-2023_12_13_15_56_00-cvat for images 1.1/YOLO/images/DJI_0933_000146.jpg',\n",
       " '/content/CVAT/project_arram materiales-2023_12_13_15_56_00-cvat for images 1.1/YOLO/images/DJI_0933_000144.jpg',\n",
       " '/content/CVAT/project_arram materiales-2023_12_13_15_56_00-cvat for images 1.1/YOLO/images/Arram2023-12-12-14h03m40s911.jpg',\n",
       " '/content/CVAT/project_arram materiales-2023_12_13_15_56_00-cvat for images 1.1/YOLO/images/DJI_0932_000151.jpg',\n",
       " '/content/CVAT/project_arram materiales-2023_12_13_15_56_00-cvat for images 1.1/YOLO/images/DJI_0933_000096.jpg',\n",
       " '/content/CVAT/project_arram materiales-2023_12_13_15_56_00-cvat for images 1.1/YOLO/images/Arram2023-12-12-13h10m44s438.jpg',\n",
       " '/content/CVAT/project_arram materiales-2023_12_13_15_56_00-cvat for images 1.1/YOLO/images/DJI_0932_000086.jpg',\n",
       " '/content/CVAT/project_arram materiales-2023_12_13_15_56_00-cvat for images 1.1/YOLO/images/Arram2023-12-12-13h06m22s230.jpg',\n",
       " '/content/CVAT/project_arram materiales-2023_12_13_15_56_00-cvat for images 1.1/YOLO/images/DJI_0933_000019.jpg',\n",
       " '/content/CVAT/project_arram materiales-2023_12_13_15_56_00-cvat for images 1.1/YOLO/images/DJI_0938_000125.jpg',\n",
       " '/content/CVAT/project_arram materiales-2023_12_13_15_56_00-cvat for images 1.1/YOLO/images/Arram2023-12-12-14h05m59s227.jpg',\n",
       " '/content/CVAT/project_arram materiales-2023_12_13_15_56_00-cvat for images 1.1/YOLO/images/DJI_0932_000139.jpg',\n",
       " '/content/CVAT/project_arram materiales-2023_12_13_15_56_00-cvat for images 1.1/YOLO/images/Arram2023-12-12-13h10m34s507.jpg',\n",
       " '/content/CVAT/project_arram materiales-2023_12_13_15_56_00-cvat for images 1.1/YOLO/images/Arram2023-12-12-13h10m36s382.jpg',\n",
       " '/content/CVAT/project_arram materiales-2023_12_13_15_56_00-cvat for images 1.1/YOLO/images/Arram2023-12-12-13h10m42s384.jpg',\n",
       " '/content/CVAT/project_arram materiales-2023_12_13_15_56_00-cvat for images 1.1/YOLO/images/DJI_0933_000033.jpg',\n",
       " '/content/CVAT/project_arram materiales-2023_12_13_15_56_00-cvat for images 1.1/YOLO/images/Arram2023-12-12-13h10m43s528.jpg',\n",
       " '/content/CVAT/project_arram materiales-2023_12_13_15_56_00-cvat for images 1.1/YOLO/images/DJI_0932_000079.jpg',\n",
       " '/content/CVAT/project_arram materiales-2023_12_13_15_56_00-cvat for images 1.1/YOLO/images/Arram2023-12-12-09h49m01s566.jpg',\n",
       " '/content/CVAT/project_arram materiales-2023_12_13_15_56_00-cvat for images 1.1/YOLO/images/DJI_0938_000091.jpg',\n",
       " '/content/CVAT/project_arram materiales-2023_12_13_15_56_00-cvat for images 1.1/YOLO/images/DJI_0933_000022.jpg',\n",
       " '/content/CVAT/project_arram materiales-2023_12_13_15_56_00-cvat for images 1.1/YOLO/images/DJI_0938_000120.jpg',\n",
       " '/content/CVAT/project_arram materiales-2023_12_13_15_56_00-cvat for images 1.1/YOLO/images/DJI_0932_000042.jpg',\n",
       " '/content/CVAT/project_arram materiales-2023_12_13_15_56_00-cvat for images 1.1/YOLO/images/DJI_0938_000023.jpg',\n",
       " '/content/CVAT/project_arram materiales-2023_12_13_15_56_00-cvat for images 1.1/YOLO/images/DJI_0932_000147.jpg',\n",
       " '/content/CVAT/project_arram materiales-2023_12_13_15_56_00-cvat for images 1.1/YOLO/images/DJI_0938_000158.jpg',\n",
       " '/content/CVAT/project_arram materiales-2023_12_13_15_56_00-cvat for images 1.1/YOLO/images/Arram2023-12-12-09h50m38s389.jpg',\n",
       " '/content/CVAT/project_arram materiales-2023_12_13_15_56_00-cvat for images 1.1/YOLO/images/DJI_0933_000142.jpg',\n",
       " '/content/CVAT/project_arram materiales-2023_12_13_15_56_00-cvat for images 1.1/YOLO/images/Arram2023-12-12-13h13m47s939.jpg',\n",
       " '/content/CVAT/project_arram materiales-2023_12_13_15_56_00-cvat for images 1.1/YOLO/images/Arram2023-12-12-13h09m49s476.jpg',\n",
       " '/content/CVAT/project_arram materiales-2023_12_13_15_56_00-cvat for images 1.1/YOLO/images/DJI_0932_000041.jpg',\n",
       " '/content/CVAT/project_arram materiales-2023_12_13_15_56_00-cvat for images 1.1/YOLO/images/Arram2023-12-12-09h57m33s254.jpg',\n",
       " '/content/CVAT/project_arram materiales-2023_12_13_15_56_00-cvat for images 1.1/YOLO/images/Arram2023-12-12-14h03m50s165.jpg',\n",
       " '/content/CVAT/project_arram materiales-2023_12_13_15_56_00-cvat for images 1.1/YOLO/images/Arram2023-12-12-09h50m39s233.jpg',\n",
       " '/content/CVAT/project_arram materiales-2023_12_13_15_56_00-cvat for images 1.1/YOLO/images/Arram2023-12-12-09h50m17s832.jpg',\n",
       " '/content/CVAT/project_arram materiales-2023_12_13_15_56_00-cvat for images 1.1/YOLO/images/Arram2023-12-12-13h10m20s033.jpg',\n",
       " '/content/CVAT/project_arram materiales-2023_12_13_15_56_00-cvat for images 1.1/YOLO/images/DJI_0932_000048.jpg',\n",
       " '/content/CVAT/project_arram materiales-2023_12_13_15_56_00-cvat for images 1.1/YOLO/images/DJI_0933_000145.jpg',\n",
       " '/content/CVAT/project_arram materiales-2023_12_13_15_56_00-cvat for images 1.1/YOLO/images/Arram2023-12-12-13h10m08s477.jpg',\n",
       " '/content/CVAT/project_arram materiales-2023_12_13_15_56_00-cvat for images 1.1/YOLO/images/Arram2023-12-12-13h16m33s480.jpg',\n",
       " '/content/CVAT/project_arram materiales-2023_12_13_15_56_00-cvat for images 1.1/YOLO/images/Arram2023-12-12-13h13m10s250.jpg',\n",
       " '/content/CVAT/project_arram materiales-2023_12_13_15_56_00-cvat for images 1.1/YOLO/images/DJI_0933_000097.jpg',\n",
       " '/content/CVAT/project_arram materiales-2023_12_13_15_56_00-cvat for images 1.1/YOLO/images/Arram2023-12-12-13h10m22s342.jpg',\n",
       " '/content/CVAT/project_arram materiales-2023_12_13_15_56_00-cvat for images 1.1/YOLO/images/Arram2023-12-12-13h16m40s839.jpg',\n",
       " '/content/CVAT/project_arram materiales-2023_12_13_15_56_00-cvat for images 1.1/YOLO/images/DJI_0938_000021.jpg',\n",
       " '/content/CVAT/project_arram materiales-2023_12_13_15_56_00-cvat for images 1.1/YOLO/images/DJI_0932_000071.jpg',\n",
       " '/content/CVAT/project_arram materiales-2023_12_13_15_56_00-cvat for images 1.1/YOLO/images/DJI_0938_000054.jpg',\n",
       " '/content/CVAT/project_arram materiales-2023_12_13_15_56_00-cvat for images 1.1/YOLO/images/Arram2023-12-12-13h10m21s133.jpg',\n",
       " '/content/CVAT/project_arram materiales-2023_12_13_15_56_00-cvat for images 1.1/YOLO/images/DJI_0938_000164.jpg',\n",
       " '/content/CVAT/project_arram materiales-2023_12_13_15_56_00-cvat for images 1.1/YOLO/images/Arram2023-12-12-13h09m48s260.jpg',\n",
       " '/content/CVAT/project_arram materiales-2023_12_13_15_56_00-cvat for images 1.1/YOLO/images/DJI_0933_000101.jpg',\n",
       " '/content/CVAT/project_arram materiales-2023_12_13_15_56_00-cvat for images 1.1/YOLO/images/Arram2023-12-12-13h09m23s355.jpg',\n",
       " '/content/CVAT/project_arram materiales-2023_12_13_15_56_00-cvat for images 1.1/YOLO/images/DJI_0932_000088.jpg',\n",
       " '/content/CVAT/project_arram materiales-2023_12_13_15_56_00-cvat for images 1.1/YOLO/images/Arram2023-12-12-13h12m39s810.jpg',\n",
       " '/content/CVAT/project_arram materiales-2023_12_13_15_56_00-cvat for images 1.1/YOLO/images/Arram2023-12-12-14h06m04s815.jpg',\n",
       " '/content/CVAT/project_arram materiales-2023_12_13_15_56_00-cvat for images 1.1/YOLO/images/Arram2023-12-12-13h09m51s071.jpg',\n",
       " '/content/CVAT/project_arram materiales-2023_12_13_15_56_00-cvat for images 1.1/YOLO/images/Arram2023-12-12-13h09m52s236.jpg',\n",
       " '/content/CVAT/project_arram materiales-2023_12_13_15_56_00-cvat for images 1.1/YOLO/images/DJI_0933_000023.jpg',\n",
       " '/content/CVAT/project_arram materiales-2023_12_13_15_56_00-cvat for images 1.1/YOLO/images/Arram2023-12-12-14h30m48s630.jpg',\n",
       " '/content/CVAT/project_arram materiales-2023_12_13_15_56_00-cvat for images 1.1/YOLO/images/DJI_0938_000127.jpg',\n",
       " '/content/CVAT/project_arram materiales-2023_12_13_15_56_00-cvat for images 1.1/YOLO/images/Arram2023-12-12-13h06m54s698.jpg',\n",
       " '/content/CVAT/project_arram materiales-2023_12_13_15_56_00-cvat for images 1.1/YOLO/images/Arram2023-12-12-09h51m36s712.jpg',\n",
       " '/content/CVAT/project_arram materiales-2023_12_13_15_56_00-cvat for images 1.1/YOLO/images/DJI_0938_000095.jpg',\n",
       " '/content/CVAT/project_arram materiales-2023_12_13_15_56_00-cvat for images 1.1/YOLO/images/Arram2023-12-12-13h12m24s402.jpg',\n",
       " '/content/CVAT/project_arram materiales-2023_12_13_15_56_00-cvat for images 1.1/YOLO/images/DJI_0933_000106.jpg',\n",
       " '/content/CVAT/project_arram materiales-2023_12_13_15_56_00-cvat for images 1.1/YOLO/images/DJI_0939_000020.jpg',\n",
       " '/content/CVAT/project_arram materiales-2023_12_13_15_56_00-cvat for images 1.1/YOLO/images/Arram2023-12-12-14h30m51s160.jpg',\n",
       " '/content/CVAT/project_arram materiales-2023_12_13_15_56_00-cvat for images 1.1/YOLO/images/Arram2023-12-12-13h12m29s497.jpg',\n",
       " '/content/CVAT/project_arram materiales-2023_12_13_15_56_00-cvat for images 1.1/YOLO/images/Arram2023-12-12-14h03m43s122.jpg',\n",
       " '/content/CVAT/project_arram materiales-2023_12_13_15_56_00-cvat for images 1.1/YOLO/images/Arram2023-12-12-14h08m08s551.jpg',\n",
       " '/content/CVAT/project_arram materiales-2023_12_13_15_56_00-cvat for images 1.1/YOLO/images/Arram2023-12-12-13h10m43s785.jpg',\n",
       " '/content/CVAT/project_arram materiales-2023_12_13_15_56_00-cvat for images 1.1/YOLO/images/Arram2023-12-12-13h03m39s460.jpg',\n",
       " '/content/CVAT/project_arram materiales-2023_12_13_15_56_00-cvat for images 1.1/YOLO/images/DJI_0938_000026.jpg',\n",
       " '/content/CVAT/project_arram materiales-2023_12_13_15_56_00-cvat for images 1.1/YOLO/images/Arram2023-12-12-13h15m52s859.jpg',\n",
       " '/content/CVAT/project_arram materiales-2023_12_13_15_56_00-cvat for images 1.1/YOLO/images/Arram2023-12-12-13h10m43s126.jpg',\n",
       " '/content/CVAT/project_arram materiales-2023_12_13_15_56_00-cvat for images 1.1/YOLO/images/Arram2023-12-12-13h09m50s235.jpg',\n",
       " '/content/CVAT/project_arram materiales-2023_12_13_15_56_00-cvat for images 1.1/YOLO/images/Arram2023-12-12-09h50m33s605.jpg',\n",
       " '/content/CVAT/project_arram materiales-2023_12_13_15_56_00-cvat for images 1.1/YOLO/images/Arram2023-12-12-13h11m14s563.jpg',\n",
       " '/content/CVAT/project_arram materiales-2023_12_13_15_56_00-cvat for images 1.1/YOLO/images/Arram2023-12-12-13h09m25s104.jpg',\n",
       " '/content/CVAT/project_arram materiales-2023_12_13_15_56_00-cvat for images 1.1/YOLO/images/Arram2023-12-12-14h03m44s940.jpg',\n",
       " '/content/CVAT/project_arram materiales-2023_12_13_15_56_00-cvat for images 1.1/YOLO/images/DJI_0938_000096.jpg',\n",
       " '/content/CVAT/project_arram materiales-2023_12_13_15_56_00-cvat for images 1.1/YOLO/images/Arram2023-12-12-13h11m54s681.jpg',\n",
       " '/content/CVAT/project_arram materiales-2023_12_13_15_56_00-cvat for images 1.1/YOLO/images/Arram2023-12-12-09h57m34s616.jpg',\n",
       " '/content/CVAT/project_arram materiales-2023_12_13_15_56_00-cvat for images 1.1/YOLO/images/DJI_0938_000058.jpg',\n",
       " '/content/CVAT/project_arram materiales-2023_12_13_15_56_00-cvat for images 1.1/YOLO/images/Arram2023-12-12-14h06m34s521.jpg',\n",
       " '/content/CVAT/project_arram materiales-2023_12_13_15_56_00-cvat for images 1.1/YOLO/images/DJI_0932_000149.jpg',\n",
       " '/content/CVAT/project_arram materiales-2023_12_13_15_56_00-cvat for images 1.1/YOLO/images/DJI_0932_000078.jpg',\n",
       " '/content/CVAT/project_arram materiales-2023_12_13_15_56_00-cvat for images 1.1/YOLO/images/DJI_0932_000146.jpg',\n",
       " '/content/CVAT/project_arram materiales-2023_12_13_15_56_00-cvat for images 1.1/YOLO/images/DJI_0933_000143.jpg',\n",
       " '/content/CVAT/project_arram materiales-2023_12_13_15_56_00-cvat for images 1.1/YOLO/images/Arram2023-12-12-14h32m11s738.jpg',\n",
       " '/content/CVAT/project_arram materiales-2023_12_13_15_56_00-cvat for images 1.1/YOLO/images/DJI_0932_000073.jpg',\n",
       " '/content/CVAT/project_arram materiales-2023_12_13_15_56_00-cvat for images 1.1/YOLO/images/Arram2023-12-12-13h10m55s543.jpg',\n",
       " '/content/CVAT/project_arram materiales-2023_12_13_15_56_00-cvat for images 1.1/YOLO/images/DJI_0933_000099.jpg',\n",
       " '/content/CVAT/project_arram materiales-2023_12_13_15_56_00-cvat for images 1.1/YOLO/images/DJI_0933_000104.jpg',\n",
       " '/content/CVAT/project_arram materiales-2023_12_13_15_56_00-cvat for images 1.1/YOLO/images/Arram2023-12-12-13h11m58s598.jpg',\n",
       " '/content/CVAT/project_arram materiales-2023_12_13_15_56_00-cvat for images 1.1/YOLO/images/Arram2023-12-12-13h12m29s980.jpg',\n",
       " '/content/CVAT/project_arram materiales-2023_12_13_15_56_00-cvat for images 1.1/YOLO/images/Arram2023-12-12-09h48m59s315.jpg',\n",
       " '/content/CVAT/project_arram materiales-2023_12_13_15_56_00-cvat for images 1.1/YOLO/images/DJI_0932_000043.jpg',\n",
       " '/content/CVAT/project_arram materiales-2023_12_13_15_56_00-cvat for images 1.1/YOLO/images/Arram2023-12-12-13h10m24s237.jpg',\n",
       " '/content/CVAT/project_arram materiales-2023_12_13_15_56_00-cvat for images 1.1/YOLO/images/Arram2023-12-12-13h13m04s762.jpg',\n",
       " '/content/CVAT/project_arram materiales-2023_12_13_15_56_00-cvat for images 1.1/YOLO/images/Arram2023-12-12-13h13m07s681.jpg',\n",
       " '/content/CVAT/project_arram materiales-2023_12_13_15_56_00-cvat for images 1.1/YOLO/images/Arram2023-12-12-14h03m39s808.jpg',\n",
       " '/content/CVAT/project_arram materiales-2023_12_13_15_56_00-cvat for images 1.1/YOLO/images/Arram2023-12-12-13h09m51s687.jpg',\n",
       " '/content/CVAT/project_arram materiales-2023_12_13_15_56_00-cvat for images 1.1/YOLO/images/DJI_0932_000040.jpg',\n",
       " '/content/CVAT/project_arram materiales-2023_12_13_15_56_00-cvat for images 1.1/YOLO/images/Arram2023-12-12-09h51m37s673.jpg',\n",
       " '/content/CVAT/project_arram materiales-2023_12_13_15_56_00-cvat for images 1.1/YOLO/images/Arram2023-12-12-13h10m54s194.jpg',\n",
       " '/content/CVAT/project_arram materiales-2023_12_13_15_56_00-cvat for images 1.1/YOLO/images/DJI_0933_000103.jpg',\n",
       " '/content/CVAT/project_arram materiales-2023_12_13_15_56_00-cvat for images 1.1/YOLO/images/DJI_0938_000163.jpg',\n",
       " '/content/CVAT/project_arram materiales-2023_12_13_15_56_00-cvat for images 1.1/YOLO/images/DJI_0933_000105.jpg',\n",
       " '/content/CVAT/project_arram materiales-2023_12_13_15_56_00-cvat for images 1.1/YOLO/images/DJI_0938_000117.jpg',\n",
       " '/content/CVAT/project_arram materiales-2023_12_13_15_56_00-cvat for images 1.1/YOLO/images/Arram2023-12-12-13h12m00s099.jpg',\n",
       " '/content/CVAT/project_arram materiales-2023_12_13_15_56_00-cvat for images 1.1/YOLO/images/DJI_0933_000147.jpg',\n",
       " '/content/CVAT/project_arram materiales-2023_12_13_15_56_00-cvat for images 1.1/YOLO/images/Arram2023-12-12-09h50m35s104.jpg',\n",
       " '/content/CVAT/project_arram materiales-2023_12_13_15_56_00-cvat for images 1.1/YOLO/images/DJI_0938_000090.jpg',\n",
       " '/content/CVAT/project_arram materiales-2023_12_13_15_56_00-cvat for images 1.1/YOLO/images/DJI_0933_000095.jpg',\n",
       " '/content/CVAT/project_arram materiales-2023_12_13_15_56_00-cvat for images 1.1/YOLO/images/Arram2023-12-12-13h11m55s983.jpg',\n",
       " '/content/CVAT/project_arram materiales-2023_12_13_15_56_00-cvat for images 1.1/YOLO/images/DJI_0933_000102.jpg',\n",
       " '/content/CVAT/project_arram materiales-2023_12_13_15_56_00-cvat for images 1.1/YOLO/images/DJI_0932_000148.jpg',\n",
       " '/content/CVAT/project_arram materiales-2023_12_13_15_56_00-cvat for images 1.1/YOLO/images/Arram2023-12-12-14h08m09s558.jpg',\n",
       " '/content/CVAT/project_arram materiales-2023_12_13_15_56_00-cvat for images 1.1/YOLO/images/Arram2023-12-12-13h09m49s131.jpg',\n",
       " '/content/CVAT/project_arram materiales-2023_12_13_15_56_00-cvat for images 1.1/YOLO/images/DJI_0938_000094.jpg',\n",
       " '/content/CVAT/project_arram materiales-2023_12_13_15_56_00-cvat for images 1.1/YOLO/images/DJI_0932_000150.jpg',\n",
       " '/content/CVAT/project_arram materiales-2023_12_13_15_56_00-cvat for images 1.1/YOLO/images/DJI_0938_000024.jpg',\n",
       " '/content/CVAT/project_arram materiales-2023_12_13_15_56_00-cvat for images 1.1/YOLO/images/DJI_0933_000107.jpg',\n",
       " '/content/CVAT/project_arram materiales-2023_12_13_15_56_00-cvat for images 1.1/YOLO/images/DJI_0938_000055.jpg',\n",
       " '/content/CVAT/project_arram materiales-2023_12_13_15_56_00-cvat for images 1.1/YOLO/images/Arram2023-12-12-13h09m29s136.jpg',\n",
       " '/content/CVAT/project_arram materiales-2023_12_13_15_56_00-cvat for images 1.1/YOLO/images/Arram2023-12-12-14h08m31s207.jpg',\n",
       " '/content/CVAT/project_arram materiales-2023_12_13_15_56_00-cvat for images 1.1/YOLO/images/DJI_0938_000122.jpg',\n",
       " '/content/CVAT/project_arram materiales-2023_12_13_15_56_00-cvat for images 1.1/YOLO/images/DJI_0938_000119.jpg',\n",
       " '/content/CVAT/project_arram materiales-2023_12_13_15_56_00-cvat for images 1.1/YOLO/images/DJI_0933_000021.jpg',\n",
       " '/content/CVAT/project_arram materiales-2023_12_13_15_56_00-cvat for images 1.1/YOLO/images/Arram2023-12-12-13h09m31s197.jpg',\n",
       " '/content/CVAT/project_arram materiales-2023_12_13_15_56_00-cvat for images 1.1/YOLO/images/Arram2023-12-12-14h06m02s334.jpg',\n",
       " '/content/CVAT/project_arram materiales-2023_12_13_15_56_00-cvat for images 1.1/YOLO/images/Arram2023-12-12-13h10m35s419.jpg',\n",
       " '/content/CVAT/project_arram materiales-2023_12_13_15_56_00-cvat for images 1.1/YOLO/images/DJI_0933_000030.jpg',\n",
       " '/content/CVAT/project_arram materiales-2023_12_13_15_56_00-cvat for images 1.1/YOLO/images/DJI_0932_000087.jpg',\n",
       " '/content/CVAT/project_arram materiales-2023_12_13_15_56_00-cvat for images 1.1/YOLO/images/Arram2023-12-12-14h30m58s181.jpg',\n",
       " '/content/CVAT/project_arram materiales-2023_12_13_15_56_00-cvat for images 1.1/YOLO/images/Arram2023-12-12-13h10m04s988.jpg',\n",
       " '/content/CVAT/project_arram materiales-2023_12_13_15_56_00-cvat for images 1.1/YOLO/images/DJI_0938_000160.jpg',\n",
       " '/content/CVAT/project_arram materiales-2023_12_13_15_56_00-cvat for images 1.1/YOLO/images/DJI_0933_000100.jpg',\n",
       " '/content/CVAT/project_arram materiales-2023_12_13_15_56_00-cvat for images 1.1/YOLO/images/DJI_0932_000047.jpg',\n",
       " '/content/CVAT/project_arram materiales-2023_12_13_15_56_00-cvat for images 1.1/YOLO/images/DJI_0932_000081.jpg',\n",
       " '/content/CVAT/project_arram materiales-2023_12_13_15_56_00-cvat for images 1.1/YOLO/images/Arram2023-12-12-14h05m35s897.jpg',\n",
       " '/content/CVAT/project_arram materiales-2023_12_13_15_56_00-cvat for images 1.1/YOLO/images/DJI_0938_000126.jpg',\n",
       " '/content/CVAT/project_arram materiales-2023_12_13_15_56_00-cvat for images 1.1/YOLO/images/Arram2023-12-12-13h10m33s757.jpg',\n",
       " '/content/CVAT/project_arram materiales-2023_12_13_15_56_00-cvat for images 1.1/YOLO/images/Arram2023-12-12-13h41m12s469.jpg',\n",
       " '/content/CVAT/project_arram materiales-2023_12_13_15_56_00-cvat for images 1.1/YOLO/images/DJI_0938_000057.jpg',\n",
       " '/content/CVAT/project_arram materiales-2023_12_13_15_56_00-cvat for images 1.1/YOLO/images/DJI_0938_000088.jpg',\n",
       " '/content/CVAT/project_arram materiales-2023_12_13_15_56_00-cvat for images 1.1/YOLO/images/Arram2023-12-12-13h10m21s852.jpg',\n",
       " '/content/CVAT/project_arram materiales-2023_12_13_15_56_00-cvat for images 1.1/YOLO/images/Arram2023-12-12-09h50m40s813.jpg',\n",
       " '/content/CVAT/project_arram materiales-2023_12_13_15_56_00-cvat for images 1.1/YOLO/images/DJI_0938_000123.jpg',\n",
       " '/content/CVAT/project_arram materiales-2023_12_13_15_56_00-cvat for images 1.1/YOLO/images/DJI_0933_000092.jpg',\n",
       " '/content/CVAT/project_arram materiales-2023_12_13_15_56_00-cvat for images 1.1/YOLO/images/DJI_0933_000093.jpg',\n",
       " '/content/CVAT/project_arram materiales-2023_12_13_15_56_00-cvat for images 1.1/YOLO/images/DJI_0933_000026.jpg',\n",
       " '/content/CVAT/project_arram materiales-2023_12_13_15_56_00-cvat for images 1.1/YOLO/images/DJI_0938_000162.jpg',\n",
       " '/content/CVAT/project_arram materiales-2023_12_13_15_56_00-cvat for images 1.1/YOLO/images/Arram2023-12-12-14h30m50s045.jpg',\n",
       " '/content/CVAT/project_arram materiales-2023_12_13_15_56_00-cvat for images 1.1/YOLO/images/DJI_0938_000056.jpg',\n",
       " '/content/CVAT/project_arram materiales-2023_12_13_15_56_00-cvat for images 1.1/YOLO/images/DJI_0938_000118.jpg',\n",
       " '/content/CVAT/project_arram materiales-2023_12_13_15_56_00-cvat for images 1.1/YOLO/images/DJI_0932_000144.jpg',\n",
       " '/content/CVAT/project_arram materiales-2023_12_13_15_56_00-cvat for images 1.1/YOLO/images/DJI_0933_000020.jpg',\n",
       " '/content/CVAT/project_arram materiales-2023_12_13_15_56_00-cvat for images 1.1/YOLO/images/Arram2023-12-12-14h32m15s247.jpg',\n",
       " '/content/CVAT/project_arram materiales-2023_12_13_15_56_00-cvat for images 1.1/YOLO/images/Arram2023-12-12-13h11m52s286.jpg',\n",
       " '/content/CVAT/project_arram materiales-2023_12_13_15_56_00-cvat for images 1.1/YOLO/images/Arram2023-12-12-09h51m31s211.jpg',\n",
       " '/content/CVAT/project_arram materiales-2023_12_13_15_56_00-cvat for images 1.1/YOLO/images/Arram2023-12-12-13h11m56s909.jpg',\n",
       " '/content/CVAT/project_arram materiales-2023_12_13_15_56_00-cvat for images 1.1/YOLO/images/DJI_0932_000045.jpg',\n",
       " '/content/CVAT/project_arram materiales-2023_12_13_15_56_00-cvat for images 1.1/YOLO/images/DJI_0938_000124.jpg',\n",
       " '/content/CVAT/project_arram materiales-2023_12_13_15_56_00-cvat for images 1.1/YOLO/images/DJI_0933_000024.jpg',\n",
       " '/content/CVAT/project_arram materiales-2023_12_13_15_56_00-cvat for images 1.1/YOLO/images/DJI_0938_000050.jpg',\n",
       " '/content/CVAT/project_arram materiales-2023_12_13_15_56_00-cvat for images 1.1/YOLO/images/DJI_0933_000032.jpg',\n",
       " '/content/CVAT/project_arram materiales-2023_12_13_15_56_00-cvat for images 1.1/YOLO/images/DJI_0938_000053.jpg',\n",
       " '/content/CVAT/project_arram materiales-2023_12_13_15_56_00-cvat for images 1.1/YOLO/images/DJI_0937_000156.jpg',\n",
       " '/content/CVAT/project_arram materiales-2023_12_13_15_56_00-cvat for images 1.1/YOLO/images/DJI_0932_000076.jpg',\n",
       " '/content/CVAT/project_arram materiales-2023_12_13_15_56_00-cvat for images 1.1/YOLO/images/Arram2023-12-12-13h10m43s984.jpg',\n",
       " '/content/CVAT/project_arram materiales-2023_12_13_15_56_00-cvat for images 1.1/YOLO/images/DJI_0938_000051.jpg',\n",
       " '/content/CVAT/project_arram materiales-2023_12_13_15_56_00-cvat for images 1.1/YOLO/images/DJI_0938_000027.jpg',\n",
       " '/content/CVAT/project_arram materiales-2023_12_13_15_56_00-cvat for images 1.1/YOLO/images/DJI_0933_000091.jpg',\n",
       " '/content/CVAT/project_arram materiales-2023_12_13_15_56_00-cvat for images 1.1/YOLO/images/Arram2023-12-12-14h08m33s767.jpg',\n",
       " '/content/CVAT/project_arram materiales-2023_12_13_15_56_00-cvat for images 1.1/YOLO/images/Arram2023-12-12-14h08m35s288.jpg',\n",
       " '/content/CVAT/project_arram materiales-2023_12_13_15_56_00-cvat for images 1.1/YOLO/images/Arram2023-12-12-13h16m42s013.jpg',\n",
       " '/content/CVAT/project_arram materiales-2023_12_13_15_56_00-cvat for images 1.1/YOLO/images/DJI_0938_000022.jpg',\n",
       " '/content/CVAT/project_arram materiales-2023_12_13_15_56_00-cvat for images 1.1/YOLO/images/Arram2023-12-12-14h03m49s114.jpg',\n",
       " '/content/CVAT/project_arram materiales-2023_12_13_15_56_00-cvat for images 1.1/YOLO/images/Arram2023-12-12-13h15m45s887.jpg',\n",
       " '/content/CVAT/project_arram materiales-2023_12_13_15_56_00-cvat for images 1.1/YOLO/images/Arram2023-12-12-13h11m59s297.jpg',\n",
       " '/content/CVAT/project_arram materiales-2023_12_13_15_56_00-cvat for images 1.1/YOLO/images/DJI_0932_000154.jpg',\n",
       " '/content/CVAT/project_arram materiales-2023_12_13_15_56_00-cvat for images 1.1/YOLO/images/Arram2023-12-12-13h12m31s099.jpg',\n",
       " '/content/CVAT/project_arram materiales-2023_12_13_15_56_00-cvat for images 1.1/YOLO/images/DJI_0933_000094.jpg',\n",
       " '/content/CVAT/project_arram materiales-2023_12_13_15_56_00-cvat for images 1.1/YOLO/images/DJI_0932_000085.jpg',\n",
       " '/content/CVAT/project_arram materiales-2023_12_13_15_56_00-cvat for images 1.1/YOLO/images/Arram2023-12-12-14h06m06s189.jpg',\n",
       " '/content/CVAT/project_arram materiales-2023_12_13_15_56_00-cvat for images 1.1/YOLO/images/DJI_0938_000028.jpg',\n",
       " '/content/CVAT/project_arram materiales-2023_12_13_15_56_00-cvat for images 1.1/YOLO/images/Arram2023-12-12-09h48m56s364.jpg',\n",
       " '/content/CVAT/project_arram materiales-2023_12_13_15_56_00-cvat for images 1.1/YOLO/images/Arram2023-12-12-13h09m50s611.jpg',\n",
       " '/content/CVAT/project_arram materiales-2023_12_13_15_56_00-cvat for images 1.1/YOLO/images/DJI_0938_000093.jpg',\n",
       " '/content/CVAT/project_arram materiales-2023_12_13_15_56_00-cvat for images 1.1/YOLO/images/DJI_0938_000025.jpg',\n",
       " '/content/CVAT/project_arram materiales-2023_12_13_15_56_00-cvat for images 1.1/YOLO/images/Arram2023-12-12-13h03m36s878.jpg',\n",
       " '/content/CVAT/project_arram materiales-2023_12_13_15_56_00-cvat for images 1.1/YOLO/images/Arram2023-12-12-13h41m15s990.jpg',\n",
       " '/content/CVAT/project_arram materiales-2023_12_13_15_56_00-cvat for images 1.1/YOLO/images/DJI_0932_000143.jpg',\n",
       " '/content/CVAT/project_arram materiales-2023_12_13_15_56_00-cvat for images 1.1/YOLO/images/Arram2023-12-12-13h13m06s452.jpg',\n",
       " '/content/CVAT/project_arram materiales-2023_12_13_15_56_00-cvat for images 1.1/YOLO/images/Arram2023-12-12-13h03m24s528.jpg',\n",
       " '/content/CVAT/project_arram materiales-2023_12_13_15_56_00-cvat for images 1.1/YOLO/images/Arram2023-12-12-09h49m04s402.jpg',\n",
       " '/content/CVAT/project_arram materiales-2023_12_13_15_56_00-cvat for images 1.1/YOLO/images/Arram2023-12-12-13h09m47s755.jpg',\n",
       " '/content/CVAT/project_arram materiales-2023_12_13_15_56_00-cvat for images 1.1/YOLO/images/Arram2023-12-12-13h09m47s218.jpg',\n",
       " '/content/CVAT/project_arram materiales-2023_12_13_15_56_00-cvat for images 1.1/YOLO/images/Arram2023-12-12-14h27m20s811.jpg']"
      ]
     },
     "execution_count": 19,
     "metadata": {},
     "output_type": "execute_result"
    }
   ],
   "source": [
    "# Obtener todas las rutas de imágenes\n",
    "all_images = glob.glob(os.path.join(images_dir, '*.jpg'))\n",
    "all_images"
   ]
  },
  {
   "cell_type": "code",
   "execution_count": 20,
   "id": "92236480-8a64-4fd6-a42e-d9559b1bc36b",
   "metadata": {},
   "outputs": [],
   "source": [
    "# Dividir los datos\n",
    "train_images, test_images = train_test_split(all_images, test_size=0.2, random_state=42)\n",
    "test_images, valid_images = train_test_split(test_images, test_size=0.5, random_state=42)"
   ]
  },
  {
   "cell_type": "code",
   "execution_count": 21,
   "id": "8b932b8c-732e-4bcc-8099-d61adffa0bfa",
   "metadata": {},
   "outputs": [
    {
     "data": {
      "text/plain": [
       "(288, 288)"
      ]
     },
     "execution_count": 21,
     "metadata": {},
     "output_type": "execute_result"
    }
   ],
   "source": [
    "len([ lab.split(\".txt\")[0] for lab in glob.glob(os.path.join(images_dir, '*.jpg')) ]),len([ lab.split(\".txt\")[0] for lab in glob.glob(os.path.join(labels_dir, '*.txt')) ])"
   ]
  },
  {
   "cell_type": "code",
   "execution_count": 22,
   "id": "c26406f3-387c-40c5-9e58-214177e499f4",
   "metadata": {},
   "outputs": [
    {
     "data": {
      "text/plain": [
       "(230, 29, 29)"
      ]
     },
     "execution_count": 22,
     "metadata": {},
     "output_type": "execute_result"
    }
   ],
   "source": [
    "len(train_images), len(test_images), len(valid_images)"
   ]
  },
  {
   "cell_type": "code",
   "execution_count": 23,
   "id": "356bbd67-0868-4224-8e57-abf527f5bda7",
   "metadata": {},
   "outputs": [],
   "source": [
    "#            /content/CVAT/project_arram materiales-2023_12_13_15_56_00-cvat for images 1.1/YOLO/labels\n",
    "#os.listdir(\"/content/CVAT/project_arram materiales-2023_12_13_15_56_00-cvat for images 1.1/YOLO/labels\")"
   ]
  },
  {
   "cell_type": "code",
   "execution_count": 24,
   "id": "7c1866fb-2dcb-4bbd-99a6-377caa6cc3b3",
   "metadata": {
    "scrolled": true
   },
   "outputs": [],
   "source": [
    "# Función para mover imágenes y etiquetas\n",
    "def move_files(images, subset):\n",
    "    for img_path in images:\n",
    "        folder = os.path.dirname(img_path)\n",
    "        tmp = folder.split(os.sep)[: -1]\n",
    "        tmp.append(\"labels\")\n",
    "        tmp = os.sep.join(tmp)\n",
    "\n",
    "        name_file = os.path.basename(img_path)\n",
    "\n",
    "        label_path = os.path.join(tmp, name_file.replace('.jpg', '.txt'))\n",
    "\n",
    "        # print(label_path, img_path)\n",
    "        \n",
    "        #print(os.path.exists(label_path), os.path.exists(img_path))\n",
    "        #continue\n",
    "\n",
    "        try:\n",
    "            shutil.copy(label_path, os.path.join(base_dir, subset, 'labels'))\n",
    "            shutil.copy(img_path, os.path.join(base_dir, subset, 'images'))\n",
    "        except Exception as e:\n",
    "            print(e)\n",
    "\n",
    "# Mover archivos\n",
    "move_files(train_images, 'train')\n",
    "move_files(test_images, 'test')\n",
    "move_files(valid_images, 'valid')"
   ]
  },
  {
   "cell_type": "code",
   "execution_count": 25,
   "id": "ba51be2c-f3de-4516-bb35-bf5d701ffcb5",
   "metadata": {},
   "outputs": [
    {
     "data": {
      "text/plain": [
       "(288, 288)"
      ]
     },
     "execution_count": 25,
     "metadata": {},
     "output_type": "execute_result"
    }
   ],
   "source": [
    "len([ lab.split(\".txt\")[0] for lab in glob.glob(os.path.join(images_dir, '*.jpg')) ]),len([ lab.split(\".txt\")[0] for lab in glob.glob(os.path.join(labels_dir, '*.txt')) ])"
   ]
  },
  {
   "cell_type": "code",
   "execution_count": 26,
   "id": "b81bcf0c-6976-43c1-8eca-d6e85de593e4",
   "metadata": {},
   "outputs": [],
   "source": [
    "\n",
    "\n",
    "# Crear archivo data.yml\n",
    "data_yml_content = f\"\"\"\n",
    "train: '{NOMBRE_DATASET_YOLO}/train/images'\n",
    "val: '{NOMBRE_DATASET_YOLO}/valid/images'\n",
    "test: '{NOMBRE_DATASET_YOLO}/test/images'\n",
    "\n",
    "# Classes\n",
    "nc: {len(nombres_clases)}  # número de clases\n",
    "names: {nombres_clases}  # lista de nombres de clases\n",
    "\"\"\"\n",
    "\n",
    "with open(os.path.join(base_dir, 'data.yaml'), 'w') as file:\n",
    "    file.write(data_yml_content)"
   ]
  },
  {
   "cell_type": "code",
   "execution_count": 27,
   "id": "14e487ec-057e-4b05-ba6d-9bdc07fbc0f6",
   "metadata": {},
   "outputs": [
    {
     "name": "stdout",
     "output_type": "stream",
     "text": [
      "Archivo comprimido creado en: /datasets/materials_seg_ARRAM.zip\n"
     ]
    }
   ],
   "source": [
    "import shutil\n",
    "\n",
    "# Ruta de la carpeta a comprimir\n",
    "carpeta_a_comprimir = f'/content/CVAT/{NOMBRE_DATASET_USAR}/YOLO/dataset'\n",
    "\n",
    "# Ruta del archivo zip de salida\n",
    "ruta_zip = f'/datasets/{NOMBRE_DATASET_YOLO}'\n",
    "\n",
    "# Crear el archivo zip\n",
    "shutil.make_archive(ruta_zip, 'zip', carpeta_a_comprimir)\n",
    "\n",
    "# Devolver la ruta del archivo zip creado\n",
    "archivo_zip_creado = ruta_zip + '.zip'\n",
    "print(\"Archivo comprimido creado en:\", archivo_zip_creado)\n"
   ]
  },
  {
   "cell_type": "code",
   "execution_count": 28,
   "id": "d8eca55a-9883-4dd1-8772-abf4767d14a2",
   "metadata": {},
   "outputs": [
    {
     "name": "stdout",
     "output_type": "stream",
     "text": [
      "ls: cannot access '/content/datasets': No such file or directory\n"
     ]
    }
   ],
   "source": [
    "!ls /content/datasets"
   ]
  },
  {
   "cell_type": "code",
   "execution_count": 29,
   "id": "2c394caa-4fc4-43bd-91b0-2e44f31a75a9",
   "metadata": {},
   "outputs": [
    {
     "name": "stdout",
     "output_type": "stream",
     "text": [
      " json_to_yolo.py\n",
      " materials_seg_ARRAM.zip\n",
      " orient.zip\n",
      " orient_train.zip\n",
      " parts_seg_eyesDcar.zip\n",
      "'project_arram materiales-2023_12_13_15_56_00-cvat for images 1.1.zip'\n"
     ]
    }
   ],
   "source": [
    "!ls /datasets"
   ]
  },
  {
   "cell_type": "code",
   "execution_count": null,
   "id": "65d5a33c-d3dd-4b9a-bb7a-b0100d99e6ac",
   "metadata": {},
   "outputs": [],
   "source": []
  },
  {
   "cell_type": "code",
   "execution_count": null,
   "id": "93a4239b-7ce5-49da-b50b-879b94be6934",
   "metadata": {},
   "outputs": [],
   "source": []
  },
  {
   "cell_type": "code",
   "execution_count": null,
   "id": "3516dbac-363e-4b64-aa64-eabf6938a488",
   "metadata": {},
   "outputs": [],
   "source": []
  }
 ],
 "metadata": {
  "kernelspec": {
   "display_name": "Python 3 (ipykernel)",
   "language": "python",
   "name": "python3"
  },
  "language_info": {
   "codemirror_mode": {
    "name": "ipython",
    "version": 3
   },
   "file_extension": ".py",
   "mimetype": "text/x-python",
   "name": "python",
   "nbconvert_exporter": "python",
   "pygments_lexer": "ipython3",
   "version": "3.10.12"
  }
 },
 "nbformat": 4,
 "nbformat_minor": 5
}
